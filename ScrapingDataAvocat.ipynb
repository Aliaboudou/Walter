{
 "cells": [
  {
   "cell_type": "code",
   "execution_count": 2,
   "metadata": {},
   "outputs": [],
   "source": [
    "import requests\n",
    "from bs4 import BeautifulSoup\n",
    "import  pandas as pd\n",
    "import re"
   ]
  },
  {
   "cell_type": "code",
   "execution_count": 31,
   "metadata": {},
   "outputs": [
    {
     "name": "stdout",
     "output_type": "stream",
     "text": [
      "200\n"
     ]
    }
   ],
   "source": [
    "#Verification de l'URL si il est valide\n",
    "URL = requests.get(\"https://www.barreaudenice.com/annuaire/avocats/\")\n",
    "print(URL.status_code)"
   ]
  },
  {
   "cell_type": "markdown",
   "metadata": {},
   "source": [
    "##### Scrappons les données "
   ]
  },
  {
   "cell_type": "code",
   "execution_count": 60,
   "metadata": {},
   "outputs": [],
   "source": [
    "#\n",
    "\n",
    "\n",
    "# récuperation des données des avocats de Lille \n",
    "URL = \"https://www.barreaudenice.com/annuaire/avocats/\"\n",
    "avocat_lille = requests.get(URL)\n",
    "soup = BeautifulSoup(avocat_lille.content, \"html.parser\")\n",
    "soup\n",
    "soup.prettify\n",
    "avocat = soup.findAll('div', class_= \"callout secondary annuaire-single\")\n",
    "for avocats in avocat : \n",
    "    nom = avocats.find('h3').text.strip()\n",
    "    #print(nom)\n",
    "    date_serment = avocats.find('span', class_=\"date\").text.strip()\n",
    "    #print(date_serment)\n",
    "    adresse = avocats.find('span', class_=\"adresse\").text.strip()\n",
    "    adresse = re.sub(r\"\\s+\", \" \", adresse)\n",
    "    #print(adresse)\n",
    "    telephone = avocats.find('span', class_='telephone').text.strip()\n",
    "    telephone = telephone.replace(\"T . \", \"\")\n",
    "    #print(telephone)\n",
    "    email = avocats.find('span', class_='email').text.strip()\n",
    "    email = email.replace('Email :  ', \"\")\n",
    "    email = re.sub(r\"\\s+\", \"\", email)\n",
    "    #print(email)\n",
    "\n",
    "    chemin = r\"C:\\Users\\user\\OneDrive\\Documents\\AHMED\\Cours EPSI\\WalterExercice2024\\Exercice_de_scrapping\\annuaire_avocat_Nice.csv\"\n",
    "    with open(chemin, \"a\")as f:\n",
    "        f.write(f\"{nom}\\n\")\n",
    "        f.write(f\"{date_serment}\\n\")\n",
    "        f.write(f\"{adresse}\\n\")\n",
    "        f.write(f\"{telephone}\\n\")\n",
    "        f.write(f\"{email}\\n\")\n",
    "    "
   ]
  },
  {
   "cell_type": "code",
   "execution_count": null,
   "metadata": {},
   "outputs": [],
   "source": []
  }
 ],
 "metadata": {
  "kernelspec": {
   "display_name": "Python 3",
   "language": "python",
   "name": "python3"
  },
  "language_info": {
   "codemirror_mode": {
    "name": "ipython",
    "version": 3
   },
   "file_extension": ".py",
   "mimetype": "text/x-python",
   "name": "python",
   "nbconvert_exporter": "python",
   "pygments_lexer": "ipython3",
   "version": "3.12.2"
  }
 },
 "nbformat": 4,
 "nbformat_minor": 2
}
